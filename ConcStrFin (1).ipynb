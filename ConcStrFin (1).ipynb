{
 "cells": [
  {
   "cell_type": "markdown",
   "id": "ca5a0751-74a4-4bff-ad9c-26d0638f9365",
   "metadata": {},
   "source": [
    "# 1330-005 Concrete Strength Project\n",
    "##### By: MABUYAKU EWORITSE, EZINNE DURU, AND JAKE BEARDSLEY"
   ]
  },
  {
   "cell_type": "code",
   "execution_count": 1,
   "id": "d0a24113-570d-4314-a3c0-ae4688324098",
   "metadata": {},
   "outputs": [],
   "source": [
    "#Modules used\n",
    "import numpy as np\n",
    "import pandas as pd\n",
    "import sklearn.metrics as metrics\n",
    "import matplotlib.pyplot as plt\n",
    "from sklearn.linear_model import LinearRegression\n",
    "from sklearn.ensemble import RandomForestRegressor\n",
    "from sklearn.linear_model import Lasso\n",
    "from sklearn.tree import DecisionTreeRegressor\n",
    "from sklearn.model_selection import train_test_split\n",
    "\n",
    "import warnings\n",
    "warnings.filterwarnings('ignore')\n"
   ]
  },
  {
   "cell_type": "code",
   "execution_count": 2,
   "id": "0d516f93-2df0-4a20-bfb9-a7d1d475e51a",
   "metadata": {},
   "outputs": [],
   "source": [
    "#Dataset read into a Pandas.DataFrame\n",
    "data=pd.read_excel('Concrete_Data.xls')\n",
    "#Columns renamed for simplicity\n",
    "data.rename(columns={'Cement (component 1)(kg in a m^3 mixture)':'Cement',\n",
    "       'Blast Furnace Slag (component 2)(kg in a m^3 mixture)':'BlastFurnaceSlag',\n",
    "       'Fly Ash (component 3)(kg in a m^3 mixture)':'FlyAsh',\n",
    "       'Water  (component 4)(kg in a m^3 mixture)':'Water',\n",
    "       'Superplasticizer (component 5)(kg in a m^3 mixture)':'Superplasticizer',\n",
    "       'Coarse Aggregate  (component 6)(kg in a m^3 mixture)':'CoarseAggregate',\n",
    "       'Fine Aggregate (component 7)(kg in a m^3 mixture)':'FineAggregate',\n",
    "       'Age (day)':'Age',\n",
    "       'Concrete compressive strength(MPa, megapascals) ':'CompressiveStrength'},inplace=True)\n",
    "#Pandas.DataFrame is divided into x values (composition and age of concrete) and y values (compressive strength)\n",
    "attributes=data[['Cement',\n",
    "       'BlastFurnaceSlag',\n",
    "       'FlyAsh',\n",
    "       'Water',\n",
    "       'Superplasticizer',\n",
    "       'CoarseAggregate',\n",
    "       'FineAggregate',\n",
    "       'Age']]\n",
    "compStr=data['CompressiveStrength']\n",
    "#Credit to https://scikit-learn.org/stable/modules/generated/sklearn.tree.DecisionTreeRegressor.html\n",
    "#sklearn.tree.DecisionTreeRegressor.score for implementing this model\n",
    "dTPredModel=DecisionTreeRegressor()"
   ]
  },
  {
   "cell_type": "markdown",
   "id": "06363bab-06ca-434b-be24-23c329c59b4f",
   "metadata": {},
   "source": [
    "## Functions Used by the Program"
   ]
  },
  {
   "cell_type": "markdown",
   "id": "8cb86dc7-0084-43c0-a742-26fd788a4a52",
   "metadata": {},
   "source": [
    "#### Compressive Strength Prediction Functions"
   ]
  },
  {
   "cell_type": "code",
   "execution_count": 3,
   "id": "2f102bf5-c028-497c-b19b-5b45c91a9624",
   "metadata": {},
   "outputs": [],
   "source": [
    "#The model is rebuilt and trained from 100% of the data so that it is more accurate. This function will be called whenever the dataFrame is modified\n",
    "def buildModel():\n",
    "    dTPredModel.fit(attributes,compStr)\n",
    "#This function must be called once at the start of the program \n",
    "buildModel()"
   ]
  },
  {
   "cell_type": "code",
   "execution_count": 4,
   "id": "57ad62d6-a48d-4fed-9314-7adb6ad87c14",
   "metadata": {},
   "outputs": [],
   "source": [
    "#This function takes in an array of 8 values containing the concrete's composition and age (7 floats representing the kg per m^3 of cement, blast furnace slag, fly ash, water, superplasticizer, coarse aggregate and fine aggregate and an int representing the age in days) and returns a prediction of its compressive strength in megapascals\n",
    "def predictStrength(input):\n",
    "    #First, the function tries to find an identical concrete sample already in the DataFrame. The input is converted into a Pandas.Series so that it can be compared with the existing data\n",
    "    #Credit to https://www.geeksforgeeks.org/creating-a-pandas-series/ for creating a Pandas.Series from an array with indices\n",
    "    concreteInput=pd.Series(input,index=attributes.columns)\n",
    "    #The DataFrame (not including the compressive strength since that is not inputted by the user) is traversed by row until it finds a concrete sample that has an identical composition and age as the user input\n",
    "    for knownSample in attributes.iloc:\n",
    "        #If none of the attributes are different, this condition is true\n",
    "        #Credit to https://thispointer.com/pandas-check-if-a-value-exists-in-a-dataframe-using-in-not-in-operator-isin/ for the .any() function used in the boolean expression\n",
    "        if((concreteInput!=knownSample).any()==False):\n",
    "            #The compressive strength of the concrete sample in the DataFrame is returned because it is from an actual real-world test\n",
    "            #Credit to https://pandas.pydata.org/pandas-docs/stable/reference/api/pandas.Series.name.html for using name attribute of a Pandas.Series as an index\n",
    "            return compStr[knownSample.name]\n",
    "    #If the composition and age given by the user are not found in the DataFrame, then its compressive strength is predicted by the Decision Tree regression model\n",
    "    return dTPredModel.predict([input])[0]"
   ]
  },
  {
   "cell_type": "markdown",
   "id": "68b57bf8-5056-477b-903d-9aec85b52496",
   "metadata": {},
   "source": [
    "#### Concrete Sample Addition to Database Functions"
   ]
  },
  {
   "cell_type": "code",
   "execution_count": 5,
   "id": "d5455007-e70c-4230-8c6d-c540c5515cd3",
   "metadata": {},
   "outputs": [],
   "source": [
    "#This function takes in an array of 9 values containing a known concrete's composition, age, and compressive strength (7 floats representing the kg per m^3 of cement, blast furnace slag, fly ash, water, superplasticizer, coarse aggregate and fine aggregate; an int representing the age in days; and a float representing the compressive strength in megapascals) and adds it to the Pandas.DataFrame and excel file and rebuilds the predction model\n",
    "#If the user input is already found in the Pandas.DataFrame, then it is not added and this function returns False. Otherwise it returns True\n",
    "def addConcreteSample(input):\n",
    "    #data is the global variable for the database\n",
    "    #Credit to https://www.w3schools.com/python/gloss_python_global_variables.asp for global keyword\n",
    "    global data\n",
    "    #Credit to https://www.geeksforgeeks.org/creating-a-pandas-series/ for creating a Pandas.Series from an array with indices\n",
    "    concreteInput=pd.Series(input, index = data.columns)\n",
    "    #The function first checks if the sample is already in the database\n",
    "    for knownSample in data.iloc:\n",
    "        #If none of the values are different, this condition is true\n",
    "        #Credit to https://thispointer.com/pandas-check-if-a-value-exists-in-a-dataframe-using-in-not-in-operator-isin/ for the .any() function used in the boolean expression\n",
    "        if((concreteInput!=knownSample).any()==False):\n",
    "            #The compressive strength of the concrete sample in the DataFrame is returned because it is from an actual real-world test\n",
    "            #Credit to https://pandas.pydata.org/pandas-docs/stable/reference/api/pandas.Series.name.html for using name attribute of a Pandas.Series as an index\n",
    "            return False\n",
    "    #A new row is added to the Pandas.DataFrame containing the user input\n",
    "    data=data.append(concreteInput, ignore_index=True)\n",
    "    #The excel file is rewritten to match the new data\n",
    "    data.to_excel('Concrete_Data.xls', index = None, header = True)\n",
    "    #The prediction model is rebuilt to account for the update\n",
    "    buildModel()\n",
    "    return True"
   ]
  },
  {
   "cell_type": "code",
   "execution_count": 6,
   "id": "76ee827e-7353-4e2a-8d0c-c7020ebad3b6",
   "metadata": {},
   "outputs": [],
   "source": [
    "#This function provides the original given database\n",
    "def restoreOriginalData():\n",
    "    #data is the global variable for the database\n",
    "    #Credit to https://www.w3schools.com/python/gloss_python_global_variables.asp for global keyword\n",
    "    global data\n",
    "    data=pd.read_excel('Concrete_Data_Original.xls')\n",
    "    data.to_excel('Concrete_Data.xls', index = None, header = True)\n",
    "    buildModel()"
   ]
  },
  {
   "cell_type": "markdown",
   "id": "4daf42ba-f63f-4e8c-9d1f-576bd8a68f35",
   "metadata": {},
   "source": [
    "## User Interface for Data Model for Predicting Compressive Strength and Database Updating with Concrete Samples"
   ]
  },
  {
   "cell_type": "code",
   "execution_count": 7,
   "id": "ad9e9611-cf3a-4a3c-846a-99d60ead2b7e",
   "metadata": {},
   "outputs": [
    {
     "name": "stdout",
     "output_type": "stream",
     "text": [
      "Welcome to the Concrete Database please select an option\n",
      "=========================================================================\n",
      "[1] Enter a new value to existing database.\n",
      "[2] Predict a new concrete strength.\n",
      "[3] Exit.\n",
      "\n",
      "3\n",
      "Thank you\n"
     ]
    }
   ],
   "source": [
    "option = 5\n",
    "while option != '3':\n",
    "    option = input(\"\"\"Welcome to the Concrete Database please select an option\n",
    "=========================================================================\n",
    "[1] Enter a new value to existing database.\n",
    "[2] Predict a new concrete strength.\n",
    "[3] Exit.\n",
    "\n",
    "\"\"\")\n",
    "    if option == '1':\n",
    "        Cement = float(input(\"Please enter the cement variable (in kg per m^3) \"))\n",
    "        Slag = float(input(\"Please enter the slag variable (in kg per m^3) \"))\n",
    "        FlyAsh = float(input(\"Please enter the fly ash variable (in kg per m^3) \"))\n",
    "        Water = float(input(\"Please enter the water variable (in kg per m^3) \"))\n",
    "        Plasticizer = float(input(\"Please enter the superplasticizer variable (in kg per m^3) \"))\n",
    "        Coarse = float(input(\"Please enter the coarse aggregate variable (in kg per m^3) \"))\n",
    "        Fine = float(input(\"Please enter the fine aggregate variable (in kg per m^3) \"))\n",
    "        Age = float(input(\"Please enter the number of days the concrete has set \"))\n",
    "        Strength = float(input(\"Please enter the compressive strength (in megapascals)\"))\n",
    "        Addition = [Cement, Slag, FlyAsh, Water, Plasticizer, Coarse, Fine, Age, Strength]\n",
    "        if addConcreteSample(Addition):\n",
    "            print(\"The concrete sample has been added to the database.\")\n",
    "        else:\n",
    "            print(\"The concrete sample is already in the database.\")\n",
    "        print()\n",
    "    elif option == '2':\n",
    "        Cement = float(input(\"Please enter the cement variable (in kg per m^3) \"))\n",
    "        Slag = float(input(\"Please enter the slag variable (in kg per m^3) \"))\n",
    "        FlyAsh = float(input(\"Please enter the fly ash variable (in kg per m^3) \"))\n",
    "        Water = float(input(\"Please enter the water variable (in kg per m^3) \"))\n",
    "        Plasticizer = float(input(\"Please enter the superplasticizer variable (in kg per m^3) \"))\n",
    "        Coarse = float(input(\"Please enter the coarse aggregate variable (in kg per m^3) \"))\n",
    "        Fine = float(input(\"Please enter the fine aggregate variable (in kg per m^3) \"))\n",
    "        Age = float(input(\"Please enter the number of days the concrete has set \"))\n",
    "        PredictSample = [Cement, Slag, FlyAsh, Water, Plasticizer, Coarse, Fine, Age]\n",
    "        print(\"The predicted compressive strength of the concrete is\",round(predictStrength(PredictSample),3),\"megapascals.\")\n",
    "        print()\n",
    "    elif option == '3':\n",
    "        print(\"Thank you\")\n",
    "        \n",
    "    elif option != '3':\n",
    "        print('This is in an valid response, Please try again.')"
   ]
  },
  {
   "cell_type": "markdown",
   "id": "24a2fa9a",
   "metadata": {},
   "source": [
    "### data.tail()"
   ]
  },
  {
   "cell_type": "markdown",
   "id": "ea53d610-8667-400c-8e3b-9b9b69f77927",
   "metadata": {},
   "source": [
    "## Analysis and Implementation of a Data Model to Predict Compressive Strength of a Sample of Concrete"
   ]
  },
  {
   "cell_type": "code",
   "execution_count": 8,
   "id": "6f6033a7-86b5-4821-933c-18a4c13836c3",
   "metadata": {},
   "outputs": [
    {
     "data": {
      "text/plain": [
       "LinearRegression()"
      ]
     },
     "execution_count": 8,
     "metadata": {},
     "output_type": "execute_result"
    }
   ],
   "source": [
    "#Analysis of Multiple Linear Regression\n",
    "#Credit to https://scikit-learn.org/stable/modules/generated/sklearn.linear_model.LinearRegression.html for parameter functions called\n",
    "#Model is trained on 80% of the data\n",
    "x_train,x_test,y_train,y_test=train_test_split(attributes,compStr,test_size=0.8,random_state=0)\n",
    "linPredModel = LinearRegression()\n",
    "linPredModel.fit(x_train,y_train)"
   ]
  },
  {
   "cell_type": "code",
   "execution_count": 9,
   "id": "e1c72bf2-91ec-45b6-b916-a154cc736936",
   "metadata": {},
   "outputs": [
    {
     "name": "stdout",
     "output_type": "stream",
     "text": [
      "Y intercept: -84.33630937482414\n",
      "Slope of each concrete attribute:\n",
      "Cement  :  0.12963171672114165\n",
      "BlastFurnaceSlag  :  0.1126469030194545\n",
      "FlyAsh  :  0.10559544886056015\n",
      "Water  :  -0.013886115972156785\n",
      "Superplasticizer  :  0.5805168936260688\n",
      "CoarseAggregate  :  0.028794965827392105\n",
      "FineAggregate  :  0.04467275061608609\n",
      "Age  :  0.12474715955396236\n",
      "\n",
      "If a sample of concrete had 500kg of cement, 200kg of water, 10kg of superplasticizer, 1000kg of coarse aggregate, and 600kg of fine aggregate per cubic meter and was 500 days old, it is predicted from a Linear regression model that its compressive strength would be 101.47969070160096 megapascals.\n"
     ]
    }
   ],
   "source": [
    "#Exact equation of linear regression is shown with an example of what it means\n",
    "print('Y intercept:',linPredModel.intercept_)\n",
    "print('Slope of each concrete attribute:')\n",
    "for i in range(len(data.columns)-1):\n",
    "    print(data.columns[i],' : ',linPredModel.coef_[i])\n",
    "\n",
    "print('')\n",
    "print('If a sample of concrete had 500kg of cement, 200kg of water, 10kg of superplasticizer, 1000kg of coarse aggregate, and 600kg of fine aggregate per cubic meter and was 500 days old, it is predicted from a Linear regression model that its compressive strength would be',linPredModel.predict([[500,0,0,200,10,1000,600,500]])[0],'megapascals.')"
   ]
  },
  {
   "cell_type": "code",
   "execution_count": 10,
   "id": "86a71dfd-e0bb-4801-9ff3-dab1c9177bc4",
   "metadata": {},
   "outputs": [],
   "source": [
    "#Measurements of goodness of fit and error to compare with other models\n",
    "linMAE=metrics.mean_absolute_error(np.array(y_test), linPredModel.predict(x_test))\n",
    "linMSE=metrics.mean_squared_error(np.array(y_test), linPredModel.predict(x_test))\n",
    "linR2=metrics.r2_score(np.array(y_test), linPredModel.predict(x_test))"
   ]
  },
  {
   "cell_type": "code",
   "execution_count": 11,
   "id": "d1bf5a5b-1bf1-46c3-9dea-509a2a7b2956",
   "metadata": {},
   "outputs": [
    {
     "data": {
      "text/plain": [
       "RandomForestRegressor()"
      ]
     },
     "execution_count": 11,
     "metadata": {},
     "output_type": "execute_result"
    }
   ],
   "source": [
    "#Analysis of Random Forest Regression\n",
    "#Credit to https://scikit-learn.org/stable/modules/generated/sklearn.ensemble.RandomForestRegressor.html for implementing this model\n",
    "#Model is trained on 80% of the data\n",
    "x_train,x_test,y_train,y_test=train_test_split(attributes,compStr,test_size=0.8,random_state=0)\n",
    "rFPredModel = RandomForestRegressor()\n",
    "rFPredModel.fit(attributes,compStr)"
   ]
  },
  {
   "cell_type": "code",
   "execution_count": 12,
   "id": "99e9ea52-7ff8-461f-ba50-932449720b0b",
   "metadata": {},
   "outputs": [
    {
     "name": "stdout",
     "output_type": "stream",
     "text": [
      "If a sample of concrete had 500kg of cement, 200kg of water, 10kg of superplasticizer, 1000kg of coarse aggregate, and 600kg of fine aggregate per cubic meter and was 500 days old, it is predicted from a Random Forest regression model that its compressive strength would be 53.48451392014565 megapascals.\n"
     ]
    }
   ],
   "source": [
    "#Because this model is based around a tree, it doesn't have an easy to understand equation, but an example can be shown\n",
    "print('If a sample of concrete had 500kg of cement, 200kg of water, 10kg of superplasticizer, 1000kg of coarse aggregate, and 600kg of fine aggregate per cubic meter and was 500 days old, it is predicted from a Random Forest regression model that its compressive strength would be',rFPredModel.predict([[500,0,0,200,10,1000,600,500]])[0],'megapascals.')"
   ]
  },
  {
   "cell_type": "code",
   "execution_count": 13,
   "id": "329c7abe-1969-4689-844f-6b7bb4f7162a",
   "metadata": {},
   "outputs": [],
   "source": [
    "#Measurements of goodness of fit and error to compare with other models\n",
    "rFMAE=metrics.mean_absolute_error(np.array(y_test), rFPredModel.predict(x_test))\n",
    "rFMSE=metrics.mean_squared_error(np.array(y_test), rFPredModel.predict(x_test))\n",
    "rFR2=metrics.r2_score(np.array(y_test), rFPredModel.predict(x_test))"
   ]
  },
  {
   "cell_type": "code",
   "execution_count": 14,
   "id": "cdeef964-ddbe-4796-9f68-e2017db121a8",
   "metadata": {},
   "outputs": [
    {
     "data": {
      "text/plain": [
       "Lasso()"
      ]
     },
     "execution_count": 14,
     "metadata": {},
     "output_type": "execute_result"
    }
   ],
   "source": [
    "#Analysis of Lasso Regression\n",
    "#Credit to https://scikit-learn.org/stable/modules/generated/sklearn.linear_model.Lasso.html for implementing this model\n",
    "#Model is trained on 80% of the data\n",
    "x_train,x_test,y_train,y_test=train_test_split(attributes,compStr,test_size=0.8,random_state=0)\n",
    "lasPredModel = Lasso()\n",
    "lasPredModel.fit(x_train,y_train)"
   ]
  },
  {
   "cell_type": "code",
   "execution_count": 15,
   "id": "ff2ff556-31ca-42fb-901e-d31e2df4409c",
   "metadata": {},
   "outputs": [
    {
     "name": "stdout",
     "output_type": "stream",
     "text": [
      "Y intercept: -76.46946646014317\n",
      "Slope of each concrete attribute:\n",
      "Cement  :  0.1291649851332286\n",
      "BlastFurnaceSlag  :  0.11155463858548002\n",
      "FlyAsh  :  0.1057115963188281\n",
      "Water  :  -0.02894000328898162\n",
      "Superplasticizer  :  0.5084004879892099\n",
      "CoarseAggregate  :  0.02561601539166691\n",
      "FineAggregate  :  0.04289703606650425\n",
      "Age  :  0.12426705884230849\n",
      "\n",
      "If a sample of concrete had 500kg of cement, 200kg of water, 10kg of superplasticizer, 1000kg of coarse aggregate, and 600kg of fine aggregate per cubic meter and was 500 days old, it is predicted from a Lasso regression model that its compressive strength would be 100.89679678129062 megapascals.\n"
     ]
    }
   ],
   "source": [
    "#Exact equation of lasso regression is shown with an example of what it means\n",
    "print('Y intercept:',lasPredModel.intercept_)\n",
    "print('Slope of each concrete attribute:')\n",
    "for i in range(len(data.columns)-1):\n",
    "    print(data.columns[i],' : ',lasPredModel.coef_[i])\n",
    "    \n",
    "print('')\n",
    "print('If a sample of concrete had 500kg of cement, 200kg of water, 10kg of superplasticizer, 1000kg of coarse aggregate, and 600kg of fine aggregate per cubic meter and was 500 days old, it is predicted from a Lasso regression model that its compressive strength would be',lasPredModel.predict([[500,0,0,200,10,1000,600,500]])[0],'megapascals.')"
   ]
  },
  {
   "cell_type": "code",
   "execution_count": 16,
   "id": "a6fa94b0-a0f7-49ec-931b-289138ce003c",
   "metadata": {},
   "outputs": [],
   "source": [
    "#Measurements of goodness of fit and error to compare with other models\n",
    "lasMAE=metrics.mean_absolute_error(np.array(y_test), lasPredModel.predict(x_test))\n",
    "lasMSE=metrics.mean_squared_error(np.array(y_test), lasPredModel.predict(x_test))\n",
    "lasR2=metrics.r2_score(np.array(y_test), lasPredModel.predict(x_test))"
   ]
  },
  {
   "cell_type": "code",
   "execution_count": 17,
   "id": "1e623973-59c3-45d8-94ec-d8e752a6ee28",
   "metadata": {},
   "outputs": [
    {
     "data": {
      "text/plain": [
       "DecisionTreeRegressor()"
      ]
     },
     "execution_count": 17,
     "metadata": {},
     "output_type": "execute_result"
    }
   ],
   "source": [
    "#Analysis of Decision Tree Regression\n",
    "#Credit to https://scikit-learn.org/stable/modules/generated/sklearn.tree.DecisionTreeRegressor.html#sklearn.tree.DecisionTreeRegressor.score for implementing this model\n",
    "#Model is trained on 80% of the data\n",
    "x_train,x_test,y_train,y_test=train_test_split(attributes,compStr,test_size=.8,random_state=0)\n",
    "dTPredModel = DecisionTreeRegressor()\n",
    "dTPredModel.fit(x_test,y_test)"
   ]
  },
  {
   "cell_type": "code",
   "execution_count": 18,
   "id": "a3e0ff84-bb0a-4fdb-a7b7-5b5b368eeeb3",
   "metadata": {},
   "outputs": [
    {
     "name": "stdout",
     "output_type": "stream",
     "text": [
      "If a sample of concrete had 500kg of cement, 200kg of water, 10kg of superplasticizer, 1000kg of coarse aggregate, and 600kg of fine aggregate per cubic meter and was 500 days old, it is predicted from a Decision Tree regression model that its compressive strength would be 55.15808 megapascals.\n"
     ]
    }
   ],
   "source": [
    "#Because this model is based around a tree, it doesn't have an easy to understand equation, but an example can be shown\n",
    "print('If a sample of concrete had 500kg of cement, 200kg of water, 10kg of superplasticizer, 1000kg of coarse aggregate, and 600kg of fine aggregate per cubic meter and was 500 days old, it is predicted from a Decision Tree regression model that its compressive strength would be',dTPredModel.predict([[500,0,0,200,10,1000,600,500]])[0],'megapascals.')"
   ]
  },
  {
   "cell_type": "code",
   "execution_count": 19,
   "id": "cfe434f6-3fca-42c1-86c9-dbfa012bca7d",
   "metadata": {},
   "outputs": [],
   "source": [
    "#Measurements of goodness of fit and error to compare with other models\n",
    "dTMAE=metrics.mean_absolute_error(np.array(y_test), dTPredModel.predict(x_test))\n",
    "dTMSE=metrics.mean_squared_error(np.array(y_test), dTPredModel.predict(x_test))\n",
    "dTR2=metrics.r2_score(np.array(y_test), dTPredModel.predict(x_test))"
   ]
  },
  {
   "cell_type": "code",
   "execution_count": 20,
   "id": "69b7aa7f-5489-4d83-844e-0625a99c0e1a",
   "metadata": {},
   "outputs": [
    {
     "name": "stdout",
     "output_type": "stream",
     "text": [
      "Goodness of Fit Metrics for each Regression Model\n",
      "\n",
      "Multiple Linear Regression-\n",
      "    Mean Absolute Error = 8.308973603342464\n",
      "    Mean Squared Error = 111.85522253843877\n",
      "    R^2 Score = 0.5927081073603078\n",
      "\n",
      "Random Forest Regression-\n",
      "    Mean Absolute Error = 1.2100682968050773\n",
      "    Mean Squared Error = 3.866155341698639\n",
      "    R^2 Score = 0.9859223942286792\n",
      "\n",
      "Multiple Lasso Regression-\n",
      "    Mean Absolute Error = 8.291383986771606\n",
      "    Mean Squared Error = 111.35752280337908\n",
      "    R^2 Score = 0.5945203523539564\n",
      "\n",
      "Decision Tree Regression-\n",
      "    Mean Absolute Error = 0.07309784387512773\n",
      "    Mean Squared Error = 1.0051438022631245\n",
      "    R^2 Score = 0.9963400285448619\n"
     ]
    }
   ],
   "source": [
    "#The mean absolute error, mean squared error, and the R^2 score for each model are compared\n",
    "print('Goodness of Fit Metrics for each Regression Model')\n",
    "print('')\n",
    "print('Multiple Linear Regression-')\n",
    "print('    Mean Absolute Error =',linMAE)\n",
    "print('    Mean Squared Error =',linMSE)\n",
    "print('    R^2 Score =',linR2)\n",
    "print('')\n",
    "print('Random Forest Regression-')\n",
    "print('    Mean Absolute Error =',rFMAE)\n",
    "print('    Mean Squared Error =',rFMSE)\n",
    "print('    R^2 Score =',rFR2)\n",
    "print('')\n",
    "print('Multiple Lasso Regression-')\n",
    "print('    Mean Absolute Error =',lasMAE)\n",
    "print('    Mean Squared Error =',lasMSE)\n",
    "print('    R^2 Score =',lasR2)\n",
    "print('')\n",
    "print('Decision Tree Regression-')\n",
    "print('    Mean Absolute Error =',dTMAE)\n",
    "print('    Mean Squared Error =',dTMSE)\n",
    "print('    R^2 Score =',dTR2)\n",
    "#It con be observed that Decision Tree regression is the best model to choose because its error metrics are the lowest and its R^2 score is the highest"
   ]
  },
  {
   "cell_type": "code",
   "execution_count": 31,
   "id": "fef29a23-492f-48a5-b4a3-b16e23ca4c97",
   "metadata": {},
   "outputs": [
    {
     "data": {
      "image/png": "[encoded data removed]",
      "text/plain": [
       "<Figure size 432x288 with 1 Axes>"
      ]
     },
     "metadata": {
      "needs_background": "light"
     },
     "output_type": "display_data"
    }
   ],
   "source": [
    "#The Pandas.DataFrame is copied and columns are added to show what each model would predict for known compressive strength experiments\n",
    "predModels=data.copy()\n",
    "predModels['Multiple Linear CSMPa Prediction']=linPredModel.predict(attributes)\n",
    "predModels['Random Forest CSMPa Prediction']=rFPredModel.predict(attributes)\n",
    "predModels['Multiple Lasso CSMPa Prediction']=lasPredModel.predict(attributes)\n",
    "predModels['Decision Tree CSMPa Prediction']=dTPredModel.predict(attributes)\n",
    "#The data is sorted so that when it's graphed, it will be easy to see\n",
    "#Credit to https://pandas.pydata.org/pandas-docs/stable/reference/api/pandas.DataFrame.sort_values.html for sorting function\n",
    "predModels.sort_values(by='CompressiveStrength',ascending=True,inplace=True)\n",
    "#The regression model predictions are plotted against the actual compressive strength to show how close each model to accurately predicting compressive strength\n",
    "#Credit to https://matplotlib.org/stable/api/_as_gen/matplotlib.pyplot.scatter.html for changing size of data points\n",
    "plt.scatter(range(predModels.shape[0]),predModels['CompressiveStrength'],s=60,color='black',label='Actual')\n",
    "plt.scatter(range(predModels.shape[0]),predModels['Multiple Linear CSMPa Prediction'],s=5,color='red',label='Linear')\n",
    "plt.scatter(range(predModels.shape[0]),predModels['Multiple Lasso CSMPa Prediction'],s=5,color='magenta',label='Lasso')\n",
    "plt.scatter(range(predModels.shape[0]),predModels['Random Forest CSMPa Prediction'],s=5,color='blue',label='Random Forest')\n",
    "plt.scatter(range(predModels.shape[0]),predModels['Decision Tree CSMPa Prediction'],s=5,color='green',label='Decision Tree')\n",
    "plt.legend()\n",
    "plt.title('Concrete Strength Regression Model Comparison')\n",
    "plt.xlabel('Concrete Sample ')\n",
    "plt.ylabel('Compressive Strength (megapascals)')\n",
    "plt.show()\n",
    "#The graph indicates that although both Decision Tree and Random Forest regression are very accurate, Decision Tree regression is consistently much more accurate. Therefore we will use the Decision Tree regression model"
   ]
  },
  {
   "cell_type": "markdown",
   "id": "3f6fb044-b5d0-4400-948a-24cb8b803267",
   "metadata": {},
   "source": [
    "## Model Test on Sample Input"
   ]
  },
  {
   "cell_type": "code",
   "execution_count": 23,
   "id": "963b690c-95b4-493f-bc90-af5e4faa8957",
   "metadata": {},
   "outputs": [
    {
     "data": {
      "text/html": [
       "<style type=\"text/css\">\n",
       "</style>\n",
       "<table id=\"T_85dbc_\">\n",
       "  <thead>\n",
       "    <tr>\n",
       "      <th class=\"col_heading level0 col0\" >Cement</th>\n",
       "      <th class=\"col_heading level0 col1\" >BlastFurnaceSlag</th>\n",
       "      <th class=\"col_heading level0 col2\" >FlyAsh</th>\n",
       "      <th class=\"col_heading level0 col3\" >Water</th>\n",
       "      <th class=\"col_heading level0 col4\" >Superplasticizer</th>\n",
       "      <th class=\"col_heading level0 col5\" >CoarseAggregate</th>\n",
       "      <th class=\"col_heading level0 col6\" >FineAggregate</th>\n",
       "      <th class=\"col_heading level0 col7\" >Age</th>\n",
       "      <th class=\"col_heading level0 col8\" >CompressiveStrength</th>\n",
       "    </tr>\n",
       "  </thead>\n",
       "  <tbody>\n",
       "    <tr>\n",
       "      <td id=\"T_85dbc_row0_col0\" class=\"data row0 col0\" >175.000000</td>\n",
       "      <td id=\"T_85dbc_row0_col1\" class=\"data row0 col1\" >13.000000</td>\n",
       "      <td id=\"T_85dbc_row0_col2\" class=\"data row0 col2\" >172.000000</td>\n",
       "      <td id=\"T_85dbc_row0_col3\" class=\"data row0 col3\" >156.000000</td>\n",
       "      <td id=\"T_85dbc_row0_col4\" class=\"data row0 col4\" >4.000000</td>\n",
       "      <td id=\"T_85dbc_row0_col5\" class=\"data row0 col5\" >1000.000000</td>\n",
       "      <td id=\"T_85dbc_row0_col6\" class=\"data row0 col6\" >856.000000</td>\n",
       "      <td id=\"T_85dbc_row0_col7\" class=\"data row0 col7\" >3</td>\n",
       "      <td id=\"T_85dbc_row0_col8\" class=\"data row0 col8\" >9.445821</td>\n",
       "    </tr>\n",
       "    <tr>\n",
       "      <td id=\"T_85dbc_row1_col0\" class=\"data row1 col0\" >320.000000</td>\n",
       "      <td id=\"T_85dbc_row1_col1\" class=\"data row1 col1\" >0.000000</td>\n",
       "      <td id=\"T_85dbc_row1_col2\" class=\"data row1 col2\" >0.000000</td>\n",
       "      <td id=\"T_85dbc_row1_col3\" class=\"data row1 col3\" >192.000000</td>\n",
       "      <td id=\"T_85dbc_row1_col4\" class=\"data row1 col4\" >0.000000</td>\n",
       "      <td id=\"T_85dbc_row1_col5\" class=\"data row1 col5\" >970.000000</td>\n",
       "      <td id=\"T_85dbc_row1_col6\" class=\"data row1 col6\" >850.000000</td>\n",
       "      <td id=\"T_85dbc_row1_col7\" class=\"data row1 col7\" >7</td>\n",
       "      <td id=\"T_85dbc_row1_col8\" class=\"data row1 col8\" >14.989208</td>\n",
       "    </tr>\n",
       "    <tr>\n",
       "      <td id=\"T_85dbc_row2_col0\" class=\"data row2 col0\" >320.000000</td>\n",
       "      <td id=\"T_85dbc_row2_col1\" class=\"data row2 col1\" >0.000000</td>\n",
       "      <td id=\"T_85dbc_row2_col2\" class=\"data row2 col2\" >126.000000</td>\n",
       "      <td id=\"T_85dbc_row2_col3\" class=\"data row2 col3\" >209.000000</td>\n",
       "      <td id=\"T_85dbc_row2_col4\" class=\"data row2 col4\" >5.700000</td>\n",
       "      <td id=\"T_85dbc_row2_col5\" class=\"data row2 col5\" >860.000000</td>\n",
       "      <td id=\"T_85dbc_row2_col6\" class=\"data row2 col6\" >856.000000</td>\n",
       "      <td id=\"T_85dbc_row2_col7\" class=\"data row2 col7\" >28</td>\n",
       "      <td id=\"T_85dbc_row2_col8\" class=\"data row2 col8\" >40.062003</td>\n",
       "    </tr>\n",
       "    <tr>\n",
       "      <td id=\"T_85dbc_row3_col0\" class=\"data row3 col0\" >320.000000</td>\n",
       "      <td id=\"T_85dbc_row3_col1\" class=\"data row3 col1\" >73.000000</td>\n",
       "      <td id=\"T_85dbc_row3_col2\" class=\"data row3 col2\" >54.000000</td>\n",
       "      <td id=\"T_85dbc_row3_col3\" class=\"data row3 col3\" >181.000000</td>\n",
       "      <td id=\"T_85dbc_row3_col4\" class=\"data row3 col4\" >6.000000</td>\n",
       "      <td id=\"T_85dbc_row3_col5\" class=\"data row3 col5\" >972.000000</td>\n",
       "      <td id=\"T_85dbc_row3_col6\" class=\"data row3 col6\" >773.000000</td>\n",
       "      <td id=\"T_85dbc_row3_col7\" class=\"data row3 col7\" >45</td>\n",
       "      <td id=\"T_85dbc_row3_col8\" class=\"data row3 col8\" >50.773013</td>\n",
       "    </tr>\n",
       "    <tr>\n",
       "      <td id=\"T_85dbc_row4_col0\" class=\"data row4 col0\" >530.000000</td>\n",
       "      <td id=\"T_85dbc_row4_col1\" class=\"data row4 col1\" >359.000000</td>\n",
       "      <td id=\"T_85dbc_row4_col2\" class=\"data row4 col2\" >200.000000</td>\n",
       "      <td id=\"T_85dbc_row4_col3\" class=\"data row4 col3\" >247.000000</td>\n",
       "      <td id=\"T_85dbc_row4_col4\" class=\"data row4 col4\" >32.000000</td>\n",
       "      <td id=\"T_85dbc_row4_col5\" class=\"data row4 col5\" >1145.000000</td>\n",
       "      <td id=\"T_85dbc_row4_col6\" class=\"data row4 col6\" >992.000000</td>\n",
       "      <td id=\"T_85dbc_row4_col7\" class=\"data row4 col7\" >365</td>\n",
       "      <td id=\"T_85dbc_row4_col8\" class=\"data row4 col8\" >59.590426</td>\n",
       "    </tr>\n",
       "  </tbody>\n",
       "</table>\n"
      ],
      "text/plain": [
       "<pandas.io.formats.style.Styler at 0x2c496a68d60>"
      ]
     },
     "execution_count": 23,
     "metadata": {},
     "output_type": "execute_result"
    }
   ],
   "source": [
    "#Make dataframe then add column\n",
    "modelTest=pd.DataFrame({'Cement':[175.0,320.0,320.0,320.0,530.0],\n",
    "       'BlastFurnaceSlag':[13.0,0.0,0.0,73.0,359.0],\n",
    "       'FlyAsh':[172.0,0.0,126.0,54.0,200.0],\n",
    "       'Water':[156.0,192.0,209.0,181.0,247.0],\n",
    "       'Superplasticizer':[4.0,0.0,5.7,6.0,32.0],\n",
    "       'CoarseAggregate':[1000.0,970.0,860.0,972.0,1145.0],\n",
    "       'FineAggregate':[856.0,850.0,856.0,773.0,992.0],\n",
    "       'Age':[3,7,28,45,365]})\n",
    "#Credit to https://pandas.pydata.org/pandas-docs/stable/reference/api/pandas.Series.html for creating an empty Pandas.Series\n",
    "strengths=pd.Series(index=[0,1,2,3,4],dtype=object)\n",
    "for sample in modelTest.iloc:\n",
    "    #Credit to https://pandas.pydata.org/pandas-docs/stable/reference/api/pandas.Series.name.html for using name attribute of a Pandas.Series as an index\n",
    "    strengths[sample.name]=predictStrength([sample['Cement'],sample['BlastFurnaceSlag'],sample['FlyAsh'],sample['Water'],sample['Superplasticizer'],sample['CoarseAggregate'],sample['FineAggregate'],sample['Age']])\n",
    "modelTest['CompressiveStrength']=strengths\n",
    "#Credit to answer by user \"Cainã Max Couto-Silva\" on https://stackoverflow.com/questions/64846520/display-pandas-dataframe-without-index\n",
    "modelTest.style.hide_index()"
   ]
  },
  {
   "cell_type": "markdown",
   "id": "76cf29fd-310c-4fc6-adae-9499fed67f0d",
   "metadata": {},
   "source": [
    "## Literature Research"
   ]
  },
  {
   "cell_type": "markdown",
   "id": "cf8b6c32",
   "metadata": {},
   "source": [
    "#### Concrete mixture designs present itself as challenging because it is composed of many different variables that all consist of different elements. Concrete strength is important to the formulation and longevity of the concrete. Having the exact concrete strength will determine if it will be high or normal performance. Not performing this test can put construction companies at risk of great liability issues. Strength and durability of the concrete mix design are dependent upon the following factors: type of cement quality of all variables, ratio between water and cement which comes from the   correlation between rheological parameters and compressive strength durability and workability( Capable of being put into effective operation) \n",
    "\n",
    "### Reference\n",
    "\n",
    "Islam Laskar, Aminul. \"Mix design of high-performance concrete\" 11 December 2011, https://www.scielo.br/j/mr/a/v4gqnHMs8mhfcDTvqTtzCvF/?lang=en\n"
   ]
  },
  {
   "cell_type": "markdown",
   "id": "10ddc5ed-2496-41cc-8c88-e9917bb2894b",
   "metadata": {},
   "source": [
    "#### Compressive strength of concrete depends on many factors such as water-cement ratio, cement strength, quality of concrete material, quality control during the production of concrete, etc. Test for compressive strength is carried out either on a cube or cylinder. Various standard codes recommend a concrete cylinder or concrete cube as the standard specimen for the test. American Society for Testing Materials ASTM C39/C39M provides Standard Test Method for Compressive Strength of Cylindrical Concrete Specimens. Compressive strength is the ability of material or structure to carry the loads on its surface without any crack or deflection. A material under compression tends to reduce the size, while in tension, size elongates."
   ]
  },
  {
   "cell_type": "markdown",
   "id": "2582a3e4-6f50-4c28-a881-c3e01ea65f5c",
   "metadata": {},
   "source": [
    "### Reference\n",
    "Gopal Mishra. “Compressive Strength of Concretee - Cube Test [Pdf], Procedure, Results”  THE CONSTRUCTOR Building ideas,Jan 2th 2020, https://theconstructor.org/concrete/compressive-strength-concrete-cube-test/1561/."
   ]
  },
  {
   "cell_type": "markdown",
   "id": "fcbdfaba-ea72-469b-b1e4-aedfe5e0ab70",
   "metadata": {},
   "source": [
    "## Database Description"
   ]
  },
  {
   "cell_type": "markdown",
   "id": "398de6c0-9af8-4221-beed-d35b92ef4b77",
   "metadata": {},
   "source": [
    "#### The database is in the form of an excel file. Each row is a sample of concrete that has been tested on its compressive strength. Each column represents a different attribute. The first 7 are the densities of different materials present in the concrete, including water, cement, etc. The units are in kg per m^3. The 8th column is how many days old the concrete is and the 9th column is its compressive strength in megapascals. Based on the above scatter plot, compressive strength has a normal distribution and is slightly positively skewed. There are a total of 1030 samples of concrete in the database and no data values are missing."
   ]
  },
  {
   "cell_type": "code",
   "execution_count": 24,
   "id": "61a3adb8-d2e4-4923-8229-492d6a693d1f",
   "metadata": {},
   "outputs": [
    {
     "name": "stdout",
     "output_type": "stream",
     "text": [
      "<class 'pandas.core.frame.DataFrame'>\n",
      "RangeIndex: 1030 entries, 0 to 1029\n",
      "Data columns (total 9 columns):\n",
      " #   Column               Non-Null Count  Dtype  \n",
      "---  ------               --------------  -----  \n",
      " 0   Cement               1030 non-null   float64\n",
      " 1   BlastFurnaceSlag     1030 non-null   float64\n",
      " 2   FlyAsh               1030 non-null   float64\n",
      " 3   Water                1030 non-null   float64\n",
      " 4   Superplasticizer     1030 non-null   float64\n",
      " 5   CoarseAggregate      1030 non-null   float64\n",
      " 6   FineAggregate        1030 non-null   float64\n",
      " 7   Age                  1030 non-null   int64  \n",
      " 8   CompressiveStrength  1030 non-null   float64\n",
      "dtypes: float64(8), int64(1)\n",
      "memory usage: 72.5 KB\n"
     ]
    }
   ],
   "source": [
    "data.info()"
   ]
  },
  {
   "cell_type": "code",
   "execution_count": 25,
   "id": "4230930d-bea4-48bb-8042-76ef339ee197",
   "metadata": {},
   "outputs": [
    {
     "data": {
      "text/html": [
       "<div>\n",
       "<style scoped>\n",
       "    .dataframe tbody tr th:only-of-type {\n",
       "        vertical-align: middle;\n",
       "    }\n",
       "\n",
       "    .dataframe tbody tr th {\n",
       "        vertical-align: top;\n",
       "    }\n",
       "\n",
       "    .dataframe thead th {\n",
       "        text-align: right;\n",
       "    }\n",
       "</style>\n",
       "<table border=\"1\" class=\"dataframe\">\n",
       "  <thead>\n",
       "    <tr style=\"text-align: right;\">\n",
       "      <th></th>\n",
       "      <th>Cement</th>\n",
       "      <th>BlastFurnaceSlag</th>\n",
       "      <th>FlyAsh</th>\n",
       "      <th>Water</th>\n",
       "      <th>Superplasticizer</th>\n",
       "      <th>CoarseAggregate</th>\n",
       "      <th>FineAggregate</th>\n",
       "      <th>Age</th>\n",
       "      <th>CompressiveStrength</th>\n",
       "    </tr>\n",
       "  </thead>\n",
       "  <tbody>\n",
       "    <tr>\n",
       "      <th>count</th>\n",
       "      <td>1030.000000</td>\n",
       "      <td>1030.000000</td>\n",
       "      <td>1030.000000</td>\n",
       "      <td>1030.000000</td>\n",
       "      <td>1030.000000</td>\n",
       "      <td>1030.000000</td>\n",
       "      <td>1030.000000</td>\n",
       "      <td>1030.000000</td>\n",
       "      <td>1030.000000</td>\n",
       "    </tr>\n",
       "    <tr>\n",
       "      <th>mean</th>\n",
       "      <td>281.165631</td>\n",
       "      <td>73.895485</td>\n",
       "      <td>54.187136</td>\n",
       "      <td>181.566359</td>\n",
       "      <td>6.203112</td>\n",
       "      <td>972.918592</td>\n",
       "      <td>773.578883</td>\n",
       "      <td>45.662136</td>\n",
       "      <td>35.817836</td>\n",
       "    </tr>\n",
       "    <tr>\n",
       "      <th>std</th>\n",
       "      <td>104.507142</td>\n",
       "      <td>86.279104</td>\n",
       "      <td>63.996469</td>\n",
       "      <td>21.355567</td>\n",
       "      <td>5.973492</td>\n",
       "      <td>77.753818</td>\n",
       "      <td>80.175427</td>\n",
       "      <td>63.169912</td>\n",
       "      <td>16.705679</td>\n",
       "    </tr>\n",
       "    <tr>\n",
       "      <th>min</th>\n",
       "      <td>102.000000</td>\n",
       "      <td>0.000000</td>\n",
       "      <td>0.000000</td>\n",
       "      <td>121.750000</td>\n",
       "      <td>0.000000</td>\n",
       "      <td>801.000000</td>\n",
       "      <td>594.000000</td>\n",
       "      <td>1.000000</td>\n",
       "      <td>2.331808</td>\n",
       "    </tr>\n",
       "    <tr>\n",
       "      <th>25%</th>\n",
       "      <td>192.375000</td>\n",
       "      <td>0.000000</td>\n",
       "      <td>0.000000</td>\n",
       "      <td>164.900000</td>\n",
       "      <td>0.000000</td>\n",
       "      <td>932.000000</td>\n",
       "      <td>730.950000</td>\n",
       "      <td>7.000000</td>\n",
       "      <td>23.707115</td>\n",
       "    </tr>\n",
       "    <tr>\n",
       "      <th>50%</th>\n",
       "      <td>272.900000</td>\n",
       "      <td>22.000000</td>\n",
       "      <td>0.000000</td>\n",
       "      <td>185.000000</td>\n",
       "      <td>6.350000</td>\n",
       "      <td>968.000000</td>\n",
       "      <td>779.510000</td>\n",
       "      <td>28.000000</td>\n",
       "      <td>34.442774</td>\n",
       "    </tr>\n",
       "    <tr>\n",
       "      <th>75%</th>\n",
       "      <td>350.000000</td>\n",
       "      <td>142.950000</td>\n",
       "      <td>118.270000</td>\n",
       "      <td>192.000000</td>\n",
       "      <td>10.160000</td>\n",
       "      <td>1029.400000</td>\n",
       "      <td>824.000000</td>\n",
       "      <td>56.000000</td>\n",
       "      <td>46.136287</td>\n",
       "    </tr>\n",
       "    <tr>\n",
       "      <th>max</th>\n",
       "      <td>540.000000</td>\n",
       "      <td>359.400000</td>\n",
       "      <td>200.100000</td>\n",
       "      <td>247.000000</td>\n",
       "      <td>32.200000</td>\n",
       "      <td>1145.000000</td>\n",
       "      <td>992.600000</td>\n",
       "      <td>365.000000</td>\n",
       "      <td>82.599225</td>\n",
       "    </tr>\n",
       "  </tbody>\n",
       "</table>\n",
       "</div>"
      ],
      "text/plain": [
       "            Cement  BlastFurnaceSlag       FlyAsh        Water  \\\n",
       "count  1030.000000       1030.000000  1030.000000  1030.000000   \n",
       "mean    281.165631         73.895485    54.187136   181.566359   \n",
       "std     104.507142         86.279104    63.996469    21.355567   \n",
       "min     102.000000          0.000000     0.000000   121.750000   \n",
       "25%     192.375000          0.000000     0.000000   164.900000   \n",
       "50%     272.900000         22.000000     0.000000   185.000000   \n",
       "75%     350.000000        142.950000   118.270000   192.000000   \n",
       "max     540.000000        359.400000   200.100000   247.000000   \n",
       "\n",
       "       Superplasticizer  CoarseAggregate  FineAggregate          Age  \\\n",
       "count       1030.000000      1030.000000    1030.000000  1030.000000   \n",
       "mean           6.203112       972.918592     773.578883    45.662136   \n",
       "std            5.973492        77.753818      80.175427    63.169912   \n",
       "min            0.000000       801.000000     594.000000     1.000000   \n",
       "25%            0.000000       932.000000     730.950000     7.000000   \n",
       "50%            6.350000       968.000000     779.510000    28.000000   \n",
       "75%           10.160000      1029.400000     824.000000    56.000000   \n",
       "max           32.200000      1145.000000     992.600000   365.000000   \n",
       "\n",
       "       CompressiveStrength  \n",
       "count          1030.000000  \n",
       "mean             35.817836  \n",
       "std              16.705679  \n",
       "min               2.331808  \n",
       "25%              23.707115  \n",
       "50%              34.442774  \n",
       "75%              46.136287  \n",
       "max              82.599225  "
      ]
     },
     "execution_count": 25,
     "metadata": {},
     "output_type": "execute_result"
    }
   ],
   "source": [
    "data.describe()"
   ]
  },
  {
   "cell_type": "code",
   "execution_count": 28,
   "id": "e0e75e71",
   "metadata": {},
   "outputs": [
    {
     "data": {
      "text/plain": [
       "Cement                 2.896006e+05\n",
       "BlastFurnaceSlag       7.611235e+04\n",
       "FlyAsh                 5.581275e+04\n",
       "Water                  1.870134e+05\n",
       "Superplasticizer       6.389205e+03\n",
       "CoarseAggregate        1.002106e+06\n",
       "FineAggregate          7.967862e+05\n",
       "Age                    4.703200e+04\n",
       "CompressiveStrength    3.689237e+04\n",
       "dtype: float64"
      ]
     },
     "execution_count": 28,
     "metadata": {},
     "output_type": "execute_result"
    }
   ],
   "source": [
    "data.sum()"
   ]
  },
  {
   "cell_type": "markdown",
   "id": "f99a3497-b53c-4749-8eca-a650112738f0",
   "metadata": {},
   "source": [
    "## How-To Video\n",
    "\n",
    "https://vimeo.com/705171642/8fe4817da0"
   ]
  },
  {
   "cell_type": "markdown",
   "id": "33a338cc-21a3-4d56-9c5b-ce85cc0e22c9",
   "metadata": {},
   "source": [
    "## Project Management Video\n"
   ]
  },
  {
   "cell_type": "markdown",
   "id": "e773289b",
   "metadata": {},
   "source": [
    "https://vimeo.com/705174460/a0b148303e"
   ]
  },
  {
   "cell_type": "code",
   "execution_count": null,
   "id": "6101ca9c",
   "metadata": {},
   "outputs": [],
   "source": []
  },
  {
   "cell_type": "code",
   "execution_count": null,
   "id": "c1bb55a6",
   "metadata": {},
   "outputs": [],
   "source": []
  }
 ],
 "metadata": {
  "kernelspec": {
   "display_name": "Python 3 (ipykernel)",
   "language": "python",
   "name": "python3"
  },
  "language_info": {
   "codemirror_mode": {
    "name": "ipython",
    "version": 3
   },
   "file_extension": ".py",
   "mimetype": "text/x-python",
   "name": "python",
   "nbconvert_exporter": "python",
   "pygments_lexer": "ipython3",
   "version": "3.9.7"
  }
 },
 "nbformat": 4,
 "nbformat_minor": 5
}
